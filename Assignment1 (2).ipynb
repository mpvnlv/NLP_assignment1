{
  "cells": [
    {
      "cell_type": "markdown",
      "metadata": {
        "id": "RKboZnAdgrRM"
      },
      "source": [
        "# [NLP] Assignment 1: Tokenization\n",
        "\n",
        "In this assignment, you need to tokenize the text of the Twitter(X) users posts(tweets). The assignment consists of two tasks. When you finish all the tasks, create a GitHub repository for this assignment (you can use this repo later for the other assignments) and submit this notebook in the repository. Leave `requirements.txt` file if your code requires additional installations. Submit the link to the repository in Moodle.\n",
        "\n",
        "The [data](https://drive.google.com/file/d/15x_wPAflvYQ2Xh38iNQGrqUIWLj5l5Nw/view?usp=share_link) contains 5 files whereby each contains 44 tweets. Each tweet is separated by a newline."
      ]
    },
    {
      "cell_type": "markdown",
      "metadata": {
        "id": "aLDjjAvemUP_"
      },
      "source": [
        "## Task 1. Tokenize some tweets manually (20 points)\n",
        "\n",
        "As a first task you need to tokenize first 15 tweets from `file2` by hand. This will allow you to understand the problem from a linguistic point of view. The guidelines for tweet tokenization are as follows:\n",
        "\n",
        "- Each smiley is a separate token\n",
        "- Each hashtag is an individual token. Each user reference is an individual token\n",
        "- If a word has spaces between them then it is converted to a single token\n",
        "- All punctuations are individual tokens. This includes double-quotes and single quotes also\n",
        "- A URL is a single token\n",
        "\n",
        "Example of output\n",
        "\n",
        "    Input tweet\n",
        "    @xfranman Old age has made N A T O!\n",
        "\n",
        "    Tokenized tweet (separated by comma)\n",
        "    @xfranman , Old , age , has , made , NATO , !"
      ]
    },
    {
      "cell_type": "code",
      "source": [
        "import pandas as pd\n",
        "from collections import defaultdict, Counter\n",
        "from pprint import pprint\n",
        "import matplotlib.pyplot as plt\n"
      ],
      "metadata": {
        "id": "2SNdkn8tYo9o"
      },
      "execution_count": 1,
      "outputs": []
    },
    {
      "cell_type": "code",
      "source": [
        "with open(\"/content/file2\") as f:\n",
        "  data = f.readlines()\n",
        "for i in range(15):\n",
        "  print(f'{i+1}.', data[i])\n"
      ],
      "metadata": {
        "colab": {
          "base_uri": "https://localhost:8080/"
        },
        "id": "rxLVEnVJRpWH",
        "outputId": "8ba5168a-9718-49ec-a736-3f297d648936"
      },
      "execution_count": 2,
      "outputs": [
        {
          "output_type": "stream",
          "name": "stdout",
          "text": [
            "1. Camping in Maine for the weekend. Hey Dad, Mama Loves YOU: http://www.mamapalooza.com\n",
            "\n",
            "2. Its american tradition bitch\n",
            "\n",
            "3. @ThroughTheVoid They love it! The only pleasure they get in life. I actually do that. I'm sure I hear a tiny squeak... Then louder ones\n",
            "\n",
            "4. \" RT @latti: @AbsoHilare stop tweeting in church! Lol <--- \"\"I tweet because I'm happy, I tweet because I'm free\"\" LOL!\"\n",
            "\n",
            "5. Samsung Mini S2 portable HDD graced with colors that perfectly match your tacky beach gear: Sammy's done it aga.. http://tinyurl.com/lb5p6m\n",
            "\n",
            "6. @dialloc congrats on finding your way over. it may be slow going at first. hang in there. it's kinda cool when u get up to speed.\n",
            "\n",
            "7. iPhone activation delays continue, Apple offers $30 http://twt.gs/l3Ki\n",
            "\n",
            "8. RT @GoogleAtWork Gmail maximum attachment size now 25MB http://bit.ly/62mjw Nice!!!\n",
            "\n",
            "9. RT @acfou The Ads Won Awards for Crispin; But Did Nothing for Client BurgerKing's Sales/Marketshare - Big Surprise - http://ping.fm/vw8TI\n",
            "\n",
            "10. Hey doll! Great I missed True Blood yday boo lol Rt @FrankBanuat78 @jhillstephens Hello Sunshine how are u today? :-)\n",
            "\n",
            "11. Australian artist Pogo made these free songs primarily from sampled audio from Alice In Wonderland. http://www.last.fm/music/Pogo/Wonderland\n",
            "\n",
            "12. @mppritchard they wanted to sell all the preorders & then sell all of the ones they had in stock to those that just walked in. Can't do both\n",
            "\n",
            "13. Incoming: Frightened Rabbit, Sept. 22 (Tucson): If Fat Cat Records is going to send three great bands from Scot.. http://tinyurl.com/nz6xcv\n",
            "\n",
            "14. Hey @ginoandfran please greet philip! (GinoandFran live > http://ustre.am/2YyQ)\n",
            "\n",
            "15. Ik weet niet wie er achter de T-Mobile iPhone Twitter zit maar ik vind het niet echt 'corporate' taalgebruik... Best vreemd eigenlijk\n",
            "\n"
          ]
        }
      ]
    },
    {
      "cell_type": "markdown",
      "source": [
        "Input tweet\n",
        "@xfranman Old age has made N A T O!\n",
        "\n",
        "Tokenized tweet (separated by comma)\n",
        "@xfranman , Old , age , has , made , NATO , !"
      ],
      "metadata": {
        "id": "okEXraD_XZ2d"
      }
    },
    {
      "cell_type": "markdown",
      "metadata": {
        "id": "7KKKwTidnzUw"
      },
      "source": [
        "\n",
        "    1. Input tweet\n",
        "       Camping in Maine for the weekend. Hey Dad, Mama Loves YOU: http://www.mamapalooza.com\n",
        "    1. Tokenized tweet\n",
        "       Camping, in, Maine, for, the, weekend, ., Hey, Dad, , , Mama, Loves, YOU, :,  http://www.mamapalooza.com\n",
        "    2. Input tweet\n",
        "       Its american tradition bitch\n",
        "    2. Tokenized tweet\n",
        "       Its, american, tradition, bitch\n",
        "    3. Input tweet\n",
        "       @ThroughTheVoid They love it! The only pleasure they get in life. I actually do that. I'm sure I hear a tiny squeak... Then louder ones\n",
        "    3. Tokenized tweet\n",
        "       @ThroughTheVoid, They, love, it, !, The, only, pleasure, they, get, in, life, ., I, actually, do, that, ., I'm, sure, I, hear, a, tiny, squeak, ... , Then, louder, ones\n",
        "    4. Input tweet\n",
        "       \" RT @latti: @AbsoHilare stop tweeting in church! Lol <--- \"\"I tweet because I'm happy, I tweet because I'm free\"\" LOL!\"\n",
        "    4. Tokenized tweet\n",
        "       \", RT, @latti, :, @AbsoHilare, stop, tweeting, in, church, !, Lol, <---, \", \", I, tweet, because, I'm, happy, ,, I, tweet, because, I'm, free, \",\", LOL, ! , \"\n",
        "    5. Input tweet\n",
        "       Samsung Mini S2 portable HDD graced with colors that perfectly match your tacky beach gear: Sammy's done it aga.. http://tinyurl.com/lb5p6m\n",
        "    5. Tokenized tweet\n",
        "       Samsung, Mini, S2, portable, HDD, graced, with, colors, that, perfectly, match, your, tacky, beach, gear, :, Sammy's,  done, it, aga, ..,  http://tinyurl.com/lb5p6m\n",
        "    6. Input tweet\n",
        "     @dialloc congrats on finding your way over. it may be slow going at first. hang in there. it's kinda cool when u get up to speed.\n",
        "    6. Tokenized tweet\n",
        "     @dialloc, congrats, on, finding, your, way, over, ., it, may, be, slow, going, at, first, ., hang, in, there, ., it's, kinda, cool, when, u, get, up, to, speed, .\n",
        "    7. Input tweet\n",
        "     iPhone activation delays continue, Apple offers $30 http://twt.gs/l3Ki\n",
        "    7. Tokenized tweet\n",
        "     iPhone, activation, delays, continue, ,, Apple, offers, $30, http://twt.gs/l3Ki\n",
        "    8. Input tweet\n",
        "     RT @GoogleAtWork Gmail maximum attachment size now 25MB http://bit.ly/62mjw Nice!!!\n",
        "    8. Tokenized tweet\n",
        "     RT, @GoogleAtWork, Gmail, maximum, attachment, size, now, 25MB, http://bit.ly/62mjw Nice, !!!\n",
        "    9. Input tweet\n",
        "     RT @acfou The Ads Won Awards for Crispin; But Did Nothing for Client BurgerKing's Sales/Marketshare - Big Surprise - http://ping.fm/vw8TI\n",
        "    9. Tokenized tweet\n",
        "     RT, @acfou, The, Ads, Won, Awards, for, Crispin, ;, But, Did, Nothing, for, Client, BurgerKing's, Sales/Marketshare, -, Big, Surprise, -, http://ping.fm/vw8TI\n",
        "    10. Input tweet\n",
        "     Hey doll! Great I missed True Blood yday boo lol Rt @FrankBanuat78 @jhillstephens Hello Sunshine how are u today? :-)\n",
        "    10. Tokenized tweet\n",
        "     Hey, doll, !, Great, I, missed, True, Blood, yday, boo, lol, Rt, @FrankBanuat78, @jhillstephens, Hello, Sunshine, how, are, u, today, ?, :-)\n",
        "    11. Input tweet\n",
        "     Australian artist Pogo made these free songs primarily from sampled audio from Alice In Wonderland. http://www.last.fm/music/Pogo/Wonderland\n",
        "    11. Tokenized tweet\n",
        "     Australian, artist, Pogo, made, these, free, songs, primarily, from, sampled, audio, from, Alice, In, Wonderland, ., http://www.last.fm/music/Pogo/Wonderland\n",
        "    12. Input tweet\n",
        "     @mppritchard they wanted to sell all the preorders & then sell all of the ones they had in stock to those that just walked in. Can't do both\n",
        "    12. Tokenized tweet\n",
        "     @mppritchard, they, wanted, to, sell, all, the, preorders, &, then, sell, all, of, the, ones, they, had, in, stock, to, those, that, just, walked, in, ., Can't, do, both\n",
        "    13. Input tweet\n",
        "     Incoming: Frightened Rabbit, Sept. 22 (Tucson): If Fat Cat Records is going to send three great bands from Scot.. http://tinyurl.com/nz6xcv\n",
        "    13. Tokenized tweet\n",
        "     Incoming, :, Frightened, Rabbit, ,, Sept, ., 22, (Tucson), :,  If, Fat, Cat, Records, is, going, to, send, three, great, bands, from, Scot.. ,http://tinyurl.com/nz6xcv\n",
        "    14. Input tweet\n",
        "     Hey @ginoandfran please greet philip! (GinoandFran live > http://ustre.am/2YyQ)\n",
        "    14. Tokenized tweet\n",
        "     Hey, @ginoandfran, please, greet, philip, !, (, GinoandFran, live, >, http://ustre.am/2YyQ, )\n",
        "    15. Input tweet\n",
        "     Ik weet niet wie er achter de T-Mobile iPhone Twitter zit maar ik vind het niet echt 'corporate' taalgebruik... Best vreemd eigenlijk\n",
        "    15. Tokenized tweet\n",
        "     Ik, weet, niet, wie, er, achter, de, T-Mobile, iPhone, Twitter, zit, maar, ik, vind, het, niet, echt, 'corporate', taalgebruik, ..., Best, vreemd, eigenlijk\n"
      ]
    },
    {
      "cell_type": "markdown",
      "metadata": {
        "id": "-2J2AD2nmUhi"
      },
      "source": [
        "## Task 2. Implement [Byte-Pair Encoding(BPE)](https://arxiv.org/pdf/1508.07909.pdf) Tokenizer (80 points)\n",
        "\n",
        "### Task 2.1. Implementation (60 points)\n",
        "\n",
        "Implement the tokenizer as the BPETokenizer class:\n",
        "* Implement `train` method that learns merges and builds the vocabulary of the specified `vocab_size` (25 points).\n",
        "* Implement `tokenize` method that should tokenize the text according to the learnt merges (25 points).\n",
        "\n",
        "Your code should have docstrings and comments (10 points)."
      ]
    },
    {
      "cell_type": "code",
      "source": [
        "from collections import Counter, defaultdict\n",
        "\n",
        "class BPE:\n",
        "    def __init__(self, data, vocab_size):\n",
        "        \"\"\"\n",
        "        Initializes the BPE tokenizer.\n",
        "\n",
        "        Parameters:\n",
        "        - data: list of strings. The dataset used for training.\n",
        "        - vocab_size: int. The desired size of the vocabulary.\n",
        "        \"\"\"\n",
        "        self.data = data\n",
        "        self.vocab_size = vocab_size\n",
        "        self.vocab = []\n",
        "        self.word_freq = Counter()\n",
        "        self.splits = {}\n",
        "        self.merges = {}\n",
        "\n",
        "    def train(self):\n",
        "        \"\"\"Train a BPE Tokenizer\"\"\"\n",
        "        self._count_word_frequency()\n",
        "        self._initialize_splits()\n",
        "\n",
        "        alphabet = set(\"\".join(self.word_freq.keys())) | {\"</w>\"}\n",
        "        self.vocab = sorted(alphabet)\n",
        "\n",
        "        while len(self.vocab) < self.vocab_size:\n",
        "            pair_freq = self._get_pairs_freq()\n",
        "            if not pair_freq:\n",
        "                print(\"No pair available\")\n",
        "                break\n",
        "            pair = max(pair_freq, key=pair_freq.get)\n",
        "            self._update_splits(pair)\n",
        "            self.merges[pair] = \"\".join(pair)\n",
        "            self.vocab.append(\"\".join(pair))\n",
        "\n",
        "    def _count_word_frequency(self):\n",
        "        \"\"\"Count the word frequency\"\"\"\n",
        "        for tweet in self.data:\n",
        "            words = tweet.split()\n",
        "            self.word_freq.update(words)\n",
        "\n",
        "    def _initialize_splits(self):\n",
        "        \"\"\"Initialize the splits\"\"\"\n",
        "        for word in self.word_freq:\n",
        "            self.splits[word] = list(word) + [\"</w>\"]\n",
        "\n",
        "    def _update_splits(self, pair):\n",
        "        \"\"\"Merge the most frequent pair in the splits\"\"\"\n",
        "        lhs, rhs = pair\n",
        "        for word, word_split in self.splits.items():\n",
        "            new_split = []\n",
        "            cursor = 0\n",
        "            while cursor < len(word_split):\n",
        "                if (\n",
        "                    word_split[cursor] == lhs\n",
        "                    and cursor + 1 < len(word_split)\n",
        "                    and word_split[cursor + 1] == rhs\n",
        "                ):\n",
        "                    new_split.append(lhs + rhs)\n",
        "                    cursor += 2\n",
        "                else:\n",
        "                    new_split.append(word_split[cursor])\n",
        "                    cursor += 1\n",
        "            self.splits[word] = new_split\n",
        "\n",
        "    def _get_pairs_freq(self):\n",
        "        \"\"\"Compute the pair frequency\"\"\"\n",
        "        pairs_freq = defaultdict(int)\n",
        "        for word, freq in self.word_freq.items():\n",
        "            split = self.splits[word]\n",
        "            for i in range(len(split)):\n",
        "                if i + 1 < len(split):\n",
        "                    pairs_freq[(split[i], split[i + 1])] += freq\n",
        "        return pairs_freq\n",
        "\n",
        "    def tokenize(self, s):\n",
        "        \"\"\"\n",
        "        Tokenize the input string using the trained BPE tokenizer.\n",
        "\n",
        "        Parameters:\n",
        "        - s: str. Input string to tokenize.\n",
        "\n",
        "        Returns:\n",
        "        - list of str. Tokenized representation of the input string.\n",
        "        \"\"\"\n",
        "        splits = [list(t) + [\"</w>\"] for t in s.split()]\n",
        "\n",
        "        for lhs, rhs in self.merges:\n",
        "            for split in splits:\n",
        "                new_split = []\n",
        "                cursor = 0\n",
        "                while cursor < len(split):\n",
        "                    if (\n",
        "                        cursor + 1 < len(split)\n",
        "                        and split[cursor] == lhs\n",
        "                        and split[cursor + 1] == rhs\n",
        "                    ):\n",
        "                        new_split.append(lhs + rhs)\n",
        "                        cursor += 2\n",
        "                    else:\n",
        "                        new_split.append(split[cursor])\n",
        "                        cursor += 1\n",
        "                split[:] = new_split\n",
        "\n",
        "        return [token for split in splits for token in split]\n"
      ],
      "metadata": {
        "id": "O7kxSySJI_Mu"
      },
      "execution_count": 4,
      "outputs": []
    },
    {
      "cell_type": "code",
      "source": [
        "# Example usage:\n",
        "filenames = ['/content/file4', '/content/file4', \"/content/file3\", \"/content/file5\", \"/content/file4\"]\n",
        "with open('/content/output', 'w') as outfile:\n",
        "    for fname in filenames:\n",
        "        with open(fname) as infile:\n",
        "            outfile.write(infile.read())\n",
        "with open(\"/content/output\") as f:\n",
        "  corpus = f.readlines()\n",
        "\n",
        "data = corpus\n"
      ],
      "metadata": {
        "id": "Bx18hXURV7TQ"
      },
      "execution_count": 5,
      "outputs": []
    },
    {
      "cell_type": "markdown",
      "metadata": {
        "id": "rN3nqNuLQoHu"
      },
      "source": [
        "### Task 2.2. Analysis on Tweets Dataset (10 points)\n",
        "\n",
        "Train the BPE tokenizer on the tweets dataset. Try to tokenize the tweets with the tokenizer of different `vocab_size`. For example, train the BPE tokenizer with `vocab_size` of [base_vocab_size, 250, 500, 750, 1000]. Plot the dependency of the average length of the tokenized tweet by `vocab_size` to analyze how `vocab_size` affects the length of the tokenized tweet on average. Tell what `vocab_size` is preferrable and why."
      ]
    },
    {
      "cell_type": "code",
      "source": [
        "avg_len = []\n",
        "lenght = [250, 500, 750, 1000, 1250, 1500]\n",
        "for i in lenght:\n",
        "  counter = 0\n",
        "  avg = 0\n",
        "  bpe = BPE(data, i)\n",
        "  bpe.train()\n",
        "  for j in range(len(data)):\n",
        "    tokens = bpe.tokenize(data[j])\n",
        "    # print(tokens)\n",
        "    counter+=len(tokens)\n",
        "\n",
        "  avg = counter/len(data)\n",
        "  avg_len.append(avg)\n",
        "print(avg_len)"
      ],
      "metadata": {
        "colab": {
          "base_uri": "https://localhost:8080/"
        },
        "id": "7I1Zvs6ZJ-gM",
        "outputId": "f3b79305-a81a-4cfa-f25d-fbb91d3690d0"
      },
      "execution_count": 6,
      "outputs": [
        {
          "output_type": "stream",
          "name": "stdout",
          "text": [
            "[61.663636363636364, 47.35, 40.92272727272727, 36.768181818181816, 33.35909090909091, 29.95]\n"
          ]
        }
      ]
    },
    {
      "cell_type": "code",
      "source": [
        "length_avg_len_tuples = [(250, avg_len[0]), (500, avg_len[1]), (750, avg_len[2]), (1000, avg_len[3]), (1250, avg_len[4]), (1500, avg_len[5])]\n",
        "lengths, avg_lens = zip(*length_avg_len_tuples)\n",
        "\n",
        "plt.figure(figsize=(10,  6))\n",
        "plt.plot(lengths, avg_lens, marker='o')\n",
        "plt.xlabel('Length of Vocabulary')\n",
        "plt.ylabel('Average Length of Tokenized Tweet')\n",
        "plt.title('Dependency of Average Token Length on Vocabulary Size')\n",
        "plt.grid(True)\n",
        "plt.show()\n"
      ],
      "metadata": {
        "colab": {
          "base_uri": "https://localhost:8080/",
          "height": 564
        },
        "id": "VPABGGqPwrfE",
        "outputId": "da2566a5-7432-49e4-f495-aa1c6ef2789e"
      },
      "execution_count": 7,
      "outputs": [
        {
          "output_type": "display_data",
          "data": {
            "text/plain": [
              "<Figure size 1000x600 with 1 Axes>"
            ],
            "image/png": "[encoded data removed]"
          },
          "metadata": {}
        }
      ]
    },
    {
      "cell_type": "markdown",
      "source": [
        "Byte Pair Encoding (BPE) is a tokenization method that is used to partition text into subwords. When vocab_size is increased in BPE, we increase the number of subwords that the model can use to represent the text.\n",
        "\n",
        "When vocab_size is increased, BPE will combine word parts into larger subwords to fit the new vocabulary size. This can cause the same word parts to be merged together to create new tokens. As a result, we will have fewer tokens to represent the same text.\n",
        "\n",
        "For example, with vocab_size=1000, the word \"book printing\" can be split into \"book\" and \"printing\", while with vocab_size=2000, the same word can be split into \"kn\" and \"igoprinting\". Thus, as vocab_size increases, the number of tokens per sentence may decrease due to the larger subwords used to represent the text."
      ],
      "metadata": {
        "id": "S6M4VHgSFASu"
      }
    },
    {
      "cell_type": "markdown",
      "source": [],
      "metadata": {
        "id": "4cKIbHL8yVZy"
      }
    },
    {
      "cell_type": "markdown",
      "metadata": {
        "id": "nXfh0KSdQoHv"
      },
      "source": [
        "### Task 2.3. Analysis on Dataset of Different Language (10 points)\n",
        "\n",
        "Find a small dataset of texts in a language other than English. The dataset size should be not greater than several megabytes.\n",
        "\n",
        "Train the BPE tokenizer on the dataset that you found. Try to tokenize the sentences from this dataset with the tokenizer of different `vocab_size`. Plot the dependency of the average length of the tokenized sentence by `vocab_size` to analyze how `vocab_size` affects the length of the tokenized sentence on average.\n",
        "\n",
        "Tell how how the average length of the tokenized sentence differs from the average length of the tokenized tweet. Explain why."
      ]
    },
    {
      "cell_type": "code",
      "source": [
        "# link for downloading: https://drive.google.com/file/d/1qRu5ih0S1GRYnkUbcVDOYkOHDFdRT-N-/view?usp=sharing\n",
        "dataset = pd.read_csv(\"/content/data.csv\")\n",
        "dataset.head()"
      ],
      "metadata": {
        "id": "k6KtjEZGKH_7",
        "colab": {
          "base_uri": "https://localhost:8080/",
          "height": 206
        },
        "outputId": "07418681-fb1f-4341-ca1e-ac8a71d9e640"
      },
      "execution_count": 9,
      "outputs": [
        {
          "output_type": "execute_result",
          "data": {
            "text/plain": [
              "                                               tweet\n",
              "0  Heureusement que le côté Compassion et Pratiqu...\n",
              "1  #immobilier #COVID2019 #CoronavirusFrance #loc...\n",
              "2  RT @MathildePanot: 🚨 Parce qu’il existe une al...\n",
              "3  RT @AntoineMaes: Le @RCLens qui galère à monte...\n",
              "4  RT @holste_max: Un pays où il est plus facile ..."
            ],
            "text/html": [
              "\n",
              "  <div id=\"df-2d3dd65c-4603-4185-8c7a-d600daec8fb1\" class=\"colab-df-container\">\n",
              "    <div>\n",
              "<style scoped>\n",
              "    .dataframe tbody tr th:only-of-type {\n",
              "        vertical-align: middle;\n",
              "    }\n",
              "\n",
              "    .dataframe tbody tr th {\n",
              "        vertical-align: top;\n",
              "    }\n",
              "\n",
              "    .dataframe thead th {\n",
              "        text-align: right;\n",
              "    }\n",
              "</style>\n",
              "<table border=\"1\" class=\"dataframe\">\n",
              "  <thead>\n",
              "    <tr style=\"text-align: right;\">\n",
              "      <th></th>\n",
              "      <th>tweet</th>\n",
              "    </tr>\n",
              "  </thead>\n",
              "  <tbody>\n",
              "    <tr>\n",
              "      <th>0</th>\n",
              "      <td>Heureusement que le côté Compassion et Pratiqu...</td>\n",
              "    </tr>\n",
              "    <tr>\n",
              "      <th>1</th>\n",
              "      <td>#immobilier #COVID2019 #CoronavirusFrance #loc...</td>\n",
              "    </tr>\n",
              "    <tr>\n",
              "      <th>2</th>\n",
              "      <td>RT @MathildePanot: 🚨 Parce qu’il existe une al...</td>\n",
              "    </tr>\n",
              "    <tr>\n",
              "      <th>3</th>\n",
              "      <td>RT @AntoineMaes: Le @RCLens qui galère à monte...</td>\n",
              "    </tr>\n",
              "    <tr>\n",
              "      <th>4</th>\n",
              "      <td>RT @holste_max: Un pays où il est plus facile ...</td>\n",
              "    </tr>\n",
              "  </tbody>\n",
              "</table>\n",
              "</div>\n",
              "    <div class=\"colab-df-buttons\">\n",
              "\n",
              "  <div class=\"colab-df-container\">\n",
              "    <button class=\"colab-df-convert\" onclick=\"convertToInteractive('df-2d3dd65c-4603-4185-8c7a-d600daec8fb1')\"\n",
              "            title=\"Convert this dataframe to an interactive table.\"\n",
              "            style=\"display:none;\">\n",
              "\n",
              "  <svg xmlns=\"http://www.w3.org/2000/svg\" height=\"24px\" viewBox=\"0 -960 960 960\">\n",
              "    <path d=\"M120-120v-720h720v720H120Zm60-500h600v-160H180v160Zm220 220h160v-160H400v160Zm0 220h160v-160H400v160ZM180-400h160v-160H180v160Zm440 0h160v-160H620v160ZM180-180h160v-160H180v160Zm440 0h160v-160H620v160Z\"/>\n",
              "  </svg>\n",
              "    </button>\n",
              "\n",
              "  <style>\n",
              "    .colab-df-container {\n",
              "      display:flex;\n",
              "      gap: 12px;\n",
              "    }\n",
              "\n",
              "    .colab-df-convert {\n",
              "      background-color: #E8F0FE;\n",
              "      border: none;\n",
              "      border-radius: 50%;\n",
              "      cursor: pointer;\n",
              "      display: none;\n",
              "      fill: #1967D2;\n",
              "      height: 32px;\n",
              "      padding: 0 0 0 0;\n",
              "      width: 32px;\n",
              "    }\n",
              "\n",
              "    .colab-df-convert:hover {\n",
              "      background-color: #E2EBFA;\n",
              "      box-shadow: 0px 1px 2px rgba(60, 64, 67, 0.3), 0px 1px 3px 1px rgba(60, 64, 67, 0.15);\n",
              "      fill: #174EA6;\n",
              "    }\n",
              "\n",
              "    .colab-df-buttons div {\n",
              "      margin-bottom: 4px;\n",
              "    }\n",
              "\n",
              "    [theme=dark] .colab-df-convert {\n",
              "      background-color: #3B4455;\n",
              "      fill: #D2E3FC;\n",
              "    }\n",
              "\n",
              "    [theme=dark] .colab-df-convert:hover {\n",
              "      background-color: #434B5C;\n",
              "      box-shadow: 0px 1px 3px 1px rgba(0, 0, 0, 0.15);\n",
              "      filter: drop-shadow(0px 1px 2px rgba(0, 0, 0, 0.3));\n",
              "      fill: #FFFFFF;\n",
              "    }\n",
              "  </style>\n",
              "\n",
              "    <script>\n",
              "      const buttonEl =\n",
              "        document.querySelector('#df-2d3dd65c-4603-4185-8c7a-d600daec8fb1 button.colab-df-convert');\n",
              "      buttonEl.style.display =\n",
              "        google.colab.kernel.accessAllowed ? 'block' : 'none';\n",
              "\n",
              "      async function convertToInteractive(key) {\n",
              "        const element = document.querySelector('#df-2d3dd65c-4603-4185-8c7a-d600daec8fb1');\n",
              "        const dataTable =\n",
              "          await google.colab.kernel.invokeFunction('convertToInteractive',\n",
              "                                                    [key], {});\n",
              "        if (!dataTable) return;\n",
              "\n",
              "        const docLinkHtml = 'Like what you see? Visit the ' +\n",
              "          '<a target=\"_blank\" href=https://colab.research.google.com/notebooks/data_table.ipynb>data table notebook</a>'\n",
              "          + ' to learn more about interactive tables.';\n",
              "        element.innerHTML = '';\n",
              "        dataTable['output_type'] = 'display_data';\n",
              "        await google.colab.output.renderOutput(dataTable, element);\n",
              "        const docLink = document.createElement('div');\n",
              "        docLink.innerHTML = docLinkHtml;\n",
              "        element.appendChild(docLink);\n",
              "      }\n",
              "    </script>\n",
              "  </div>\n",
              "\n",
              "\n",
              "<div id=\"df-7d94326e-a6d3-4422-b110-4a5d7f9f1da4\">\n",
              "  <button class=\"colab-df-quickchart\" onclick=\"quickchart('df-7d94326e-a6d3-4422-b110-4a5d7f9f1da4')\"\n",
              "            title=\"Suggest charts\"\n",
              "            style=\"display:none;\">\n",
              "\n",
              "<svg xmlns=\"http://www.w3.org/2000/svg\" height=\"24px\"viewBox=\"0 0 24 24\"\n",
              "     width=\"24px\">\n",
              "    <g>\n",
              "        <path d=\"M19 3H5c-1.1 0-2 .9-2 2v14c0 1.1.9 2 2 2h14c1.1 0 2-.9 2-2V5c0-1.1-.9-2-2-2zM9 17H7v-7h2v7zm4 0h-2V7h2v10zm4 0h-2v-4h2v4z\"/>\n",
              "    </g>\n",
              "</svg>\n",
              "  </button>\n",
              "\n",
              "<style>\n",
              "  .colab-df-quickchart {\n",
              "      --bg-color: #E8F0FE;\n",
              "      --fill-color: #1967D2;\n",
              "      --hover-bg-color: #E2EBFA;\n",
              "      --hover-fill-color: #174EA6;\n",
              "      --disabled-fill-color: #AAA;\n",
              "      --disabled-bg-color: #DDD;\n",
              "  }\n",
              "\n",
              "  [theme=dark] .colab-df-quickchart {\n",
              "      --bg-color: #3B4455;\n",
              "      --fill-color: #D2E3FC;\n",
              "      --hover-bg-color: #434B5C;\n",
              "      --hover-fill-color: #FFFFFF;\n",
              "      --disabled-bg-color: #3B4455;\n",
              "      --disabled-fill-color: #666;\n",
              "  }\n",
              "\n",
              "  .colab-df-quickchart {\n",
              "    background-color: var(--bg-color);\n",
              "    border: none;\n",
              "    border-radius: 50%;\n",
              "    cursor: pointer;\n",
              "    display: none;\n",
              "    fill: var(--fill-color);\n",
              "    height: 32px;\n",
              "    padding: 0;\n",
              "    width: 32px;\n",
              "  }\n",
              "\n",
              "  .colab-df-quickchart:hover {\n",
              "    background-color: var(--hover-bg-color);\n",
              "    box-shadow: 0 1px 2px rgba(60, 64, 67, 0.3), 0 1px 3px 1px rgba(60, 64, 67, 0.15);\n",
              "    fill: var(--button-hover-fill-color);\n",
              "  }\n",
              "\n",
              "  .colab-df-quickchart-complete:disabled,\n",
              "  .colab-df-quickchart-complete:disabled:hover {\n",
              "    background-color: var(--disabled-bg-color);\n",
              "    fill: var(--disabled-fill-color);\n",
              "    box-shadow: none;\n",
              "  }\n",
              "\n",
              "  .colab-df-spinner {\n",
              "    border: 2px solid var(--fill-color);\n",
              "    border-color: transparent;\n",
              "    border-bottom-color: var(--fill-color);\n",
              "    animation:\n",
              "      spin 1s steps(1) infinite;\n",
              "  }\n",
              "\n",
              "  @keyframes spin {\n",
              "    0% {\n",
              "      border-color: transparent;\n",
              "      border-bottom-color: var(--fill-color);\n",
              "      border-left-color: var(--fill-color);\n",
              "    }\n",
              "    20% {\n",
              "      border-color: transparent;\n",
              "      border-left-color: var(--fill-color);\n",
              "      border-top-color: var(--fill-color);\n",
              "    }\n",
              "    30% {\n",
              "      border-color: transparent;\n",
              "      border-left-color: var(--fill-color);\n",
              "      border-top-color: var(--fill-color);\n",
              "      border-right-color: var(--fill-color);\n",
              "    }\n",
              "    40% {\n",
              "      border-color: transparent;\n",
              "      border-right-color: var(--fill-color);\n",
              "      border-top-color: var(--fill-color);\n",
              "    }\n",
              "    60% {\n",
              "      border-color: transparent;\n",
              "      border-right-color: var(--fill-color);\n",
              "    }\n",
              "    80% {\n",
              "      border-color: transparent;\n",
              "      border-right-color: var(--fill-color);\n",
              "      border-bottom-color: var(--fill-color);\n",
              "    }\n",
              "    90% {\n",
              "      border-color: transparent;\n",
              "      border-bottom-color: var(--fill-color);\n",
              "    }\n",
              "  }\n",
              "</style>\n",
              "\n",
              "  <script>\n",
              "    async function quickchart(key) {\n",
              "      const quickchartButtonEl =\n",
              "        document.querySelector('#' + key + ' button');\n",
              "      quickchartButtonEl.disabled = true;  // To prevent multiple clicks.\n",
              "      quickchartButtonEl.classList.add('colab-df-spinner');\n",
              "      try {\n",
              "        const charts = await google.colab.kernel.invokeFunction(\n",
              "            'suggestCharts', [key], {});\n",
              "      } catch (error) {\n",
              "        console.error('Error during call to suggestCharts:', error);\n",
              "      }\n",
              "      quickchartButtonEl.classList.remove('colab-df-spinner');\n",
              "      quickchartButtonEl.classList.add('colab-df-quickchart-complete');\n",
              "    }\n",
              "    (() => {\n",
              "      let quickchartButtonEl =\n",
              "        document.querySelector('#df-7d94326e-a6d3-4422-b110-4a5d7f9f1da4 button');\n",
              "      quickchartButtonEl.style.display =\n",
              "        google.colab.kernel.accessAllowed ? 'block' : 'none';\n",
              "    })();\n",
              "  </script>\n",
              "</div>\n",
              "    </div>\n",
              "  </div>\n"
            ]
          },
          "metadata": {},
          "execution_count": 9
        }
      ]
    },
    {
      "cell_type": "code",
      "source": [
        "# preparing dataset for further use\n",
        "s = [i for i in dataset.tweet]\n",
        "s[:5]"
      ],
      "metadata": {
        "colab": {
          "base_uri": "https://localhost:8080/"
        },
        "id": "lYHKjzkaCXZn",
        "outputId": "91e4632f-2d88-40ba-f4a7-4cb88f5df6e6"
      },
      "execution_count": 10,
      "outputs": [
        {
          "output_type": "execute_result",
          "data": {
            "text/plain": [
              "[\"Heureusement que le côté Compassion et Pratique des Femmes ont toujours soutenu l'Humanité mais dans l'Ombre malheu… https://t.co/8qW82G81s6\",\n",
              " '#immobilier #COVID2019 #CoronavirusFrance #location \\n\\nComment faire si on ne peut pas régler son loyer à son baille… https://t.co/JFZhZzonHw',\n",
              " 'RT @MathildePanot: 🚨 Parce qu’il existe une alternative crédible à ceux qui ne veulent rien changer et qui ne retiennent aucune leçon. \\n\\n📝…',\n",
              " 'RT @AntoineMaes: Le @RCLens qui galère à monter depuis des années. Et qui remonte sans finir la saison. Suffisait de pas jouer en fait. #Co…',\n",
              " 'RT @holste_max: Un pays où il est plus facile de se procurer une kalachnikov que des masques, a un problème. #CoronavirusFrance']"
            ]
          },
          "metadata": {},
          "execution_count": 10
        }
      ]
    },
    {
      "cell_type": "code",
      "source": [
        "avg_len = []\n",
        "lenght = [250, 500, 750, 1000, 1250, 1500]\n",
        "for i in lenght:\n",
        "  counter = 0\n",
        "  avg = 0\n",
        "  bpe = BPE(s, i)\n",
        "  bpe.train()\n",
        "  for j in range(len(s)):\n",
        "    tokens = bpe.tokenize(s[j])\n",
        "    # print(tokens)\n",
        "    counter+=len(tokens)\n",
        "\n",
        "  avg = counter/len(s)\n",
        "  avg_len.append(avg)\n",
        "print(avg_len)"
      ],
      "metadata": {
        "colab": {
          "base_uri": "https://localhost:8080/"
        },
        "id": "FMfTyydpDSP5",
        "outputId": "c27f6553-8259-4d97-98d8-b09589ffc768"
      },
      "execution_count": 11,
      "outputs": [
        {
          "output_type": "stream",
          "name": "stdout",
          "text": [
            "[78.2, 58.34, 49.09, 43.2, 38.2, 35.6]\n"
          ]
        }
      ]
    },
    {
      "cell_type": "code",
      "source": [
        "import matplotlib.pyplot as plt\n",
        "\n",
        "\n",
        "length_avg_len_tuples = [(250, avg_len[0]), (500, avg_len[1]), (750, avg_len[2]), (1000, avg_len[3]), (1250, avg_len[4]), (1500, avg_len[5])]\n",
        "lengths, avg_lens = zip(*length_avg_len_tuples)\n",
        "\n",
        "plt.figure(figsize=(10,  6))\n",
        "plt.plot(lengths, avg_lens, marker='o')\n",
        "plt.xlabel('Length of Vocabulary')\n",
        "plt.ylabel('Average Length of Tokenized Tweet')\n",
        "plt.title('Dependency of Average Token Length on Vocabulary Size')\n",
        "plt.grid(True)\n",
        "plt.show()\n"
      ],
      "metadata": {
        "colab": {
          "base_uri": "https://localhost:8080/",
          "height": 564
        },
        "id": "RD-zQ2qLD0Bt",
        "outputId": "b1350e4b-286d-4e3a-f362-0516de21220a"
      },
      "execution_count": 12,
      "outputs": [
        {
          "output_type": "display_data",
          "data": {
            "text/plain": [
              "<Figure size 1000x600 with 1 Axes>"
            ],
            "image/png": "[encoded data removed]"
          },
          "metadata": {}
        }
      ]
    },
    {
      "cell_type": "markdown",
      "source": [],
      "metadata": {
        "id": "VY-mNi5NE0z3"
      }
    },
    {
      "cell_type": "markdown",
      "source": [
        "References:\n",
        "1. https://alexanderdyakonov.wordpress.com/2019/11/29/токенизация-на-подслова-subword-tokenization/\n",
        "2. https://huggingface.co/learn/nlp-course/en/chapter6/5\n",
        "3. https://habr.com/ru/articles/599673/\n",
        "4. https://martinlwx.github.io/en/the-bpe-tokenizer/"
      ],
      "metadata": {
        "id": "lBmsIcKvJpmK"
      }
    }
  ],
  "metadata": {
    "colab": {
      "provenance": []
    },
    "kernelspec": {
      "display_name": "Python 3",
      "name": "python3"
    },
    "language_info": {
      "name": "python"
    }
  },
  "nbformat": 4,
  "nbformat_minor": 0
}